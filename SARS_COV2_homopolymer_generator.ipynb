{
 "cells": [
  {
   "cell_type": "markdown",
   "id": "41984116",
   "metadata": {},
   "source": [
    "## SPIKE_SARS2\n",
    "\n",
    "+ wild type sequencehas 1273 aa\n",
    "+ aim: generate a series of variants that will accumulate (at randomly chosen positions) aa substitutions for each type of aa\n",
    "+ abt 2.5 million sequences are cretaed for 100 repetitions (1273 x 20 x 100)"
   ]
  },
  {
   "cell_type": "code",
   "execution_count": 5,
   "id": "4b5025f0",
   "metadata": {},
   "outputs": [
    {
     "ename": "MissingPythonDependencyError",
     "evalue": "Please install numpy if you want to use Bio.Align. See http://www.numpy.org/",
     "output_type": "error",
     "traceback": [
      "\u001b[1;31m---------------------------------------------------------------------------\u001b[0m",
      "\u001b[1;31mMissingPythonDependencyError\u001b[0m              Traceback (most recent call last)",
      "\u001b[1;32m<ipython-input-5-6a474c4a63a4>\u001b[0m in \u001b[0;36m<module>\u001b[1;34m\u001b[0m\n\u001b[0;32m      1\u001b[0m \u001b[1;32mimport\u001b[0m \u001b[0mrandom\u001b[0m\u001b[1;33m\u001b[0m\u001b[1;33m\u001b[0m\u001b[0m\n\u001b[0;32m      2\u001b[0m \u001b[1;32mimport\u001b[0m \u001b[0mos\u001b[0m\u001b[1;33m\u001b[0m\u001b[1;33m\u001b[0m\u001b[0m\n\u001b[1;32m----> 3\u001b[1;33m \u001b[1;32mfrom\u001b[0m \u001b[0mBio\u001b[0m \u001b[1;32mimport\u001b[0m \u001b[0mSeqIO\u001b[0m\u001b[1;33m\u001b[0m\u001b[1;33m\u001b[0m\u001b[0m\n\u001b[0m\u001b[0;32m      4\u001b[0m \u001b[1;32mfrom\u001b[0m \u001b[0mBio\u001b[0m\u001b[1;33m.\u001b[0m\u001b[0mSeqUtils\u001b[0m\u001b[1;33m.\u001b[0m\u001b[0mProtParam\u001b[0m \u001b[1;32mimport\u001b[0m \u001b[0mProteinAnalysis\u001b[0m\u001b[1;33m\u001b[0m\u001b[1;33m\u001b[0m\u001b[0m\n\u001b[0;32m      5\u001b[0m \u001b[1;32mfrom\u001b[0m \u001b[0mBio\u001b[0m\u001b[1;33m.\u001b[0m\u001b[0mSeq\u001b[0m \u001b[1;32mimport\u001b[0m \u001b[0mSeq\u001b[0m\u001b[1;33m\u001b[0m\u001b[1;33m\u001b[0m\u001b[0m\n",
      "\u001b[1;32m~\\anaconda3\\lib\\site-packages\\Bio\\SeqIO\\__init__.py\u001b[0m in \u001b[0;36m<module>\u001b[1;34m\u001b[0m\n\u001b[0;32m    372\u001b[0m \u001b[1;31m#\u001b[0m\u001b[1;33m\u001b[0m\u001b[1;33m\u001b[0m\u001b[1;33m\u001b[0m\u001b[0m\n\u001b[0;32m    373\u001b[0m \u001b[1;31m# --Peter\u001b[0m\u001b[1;33m\u001b[0m\u001b[1;33m\u001b[0m\u001b[1;33m\u001b[0m\u001b[0m\n\u001b[1;32m--> 374\u001b[1;33m \u001b[1;32mfrom\u001b[0m \u001b[0mBio\u001b[0m\u001b[1;33m.\u001b[0m\u001b[0mAlign\u001b[0m \u001b[1;32mimport\u001b[0m \u001b[0mMultipleSeqAlignment\u001b[0m\u001b[1;33m\u001b[0m\u001b[1;33m\u001b[0m\u001b[0m\n\u001b[0m\u001b[0;32m    375\u001b[0m \u001b[1;32mfrom\u001b[0m \u001b[0mBio\u001b[0m\u001b[1;33m.\u001b[0m\u001b[0mFile\u001b[0m \u001b[1;32mimport\u001b[0m \u001b[0mas_handle\u001b[0m\u001b[1;33m\u001b[0m\u001b[1;33m\u001b[0m\u001b[0m\n\u001b[0;32m    376\u001b[0m \u001b[1;32mfrom\u001b[0m \u001b[0mBio\u001b[0m\u001b[1;33m.\u001b[0m\u001b[0mSeqIO\u001b[0m \u001b[1;32mimport\u001b[0m \u001b[0mAbiIO\u001b[0m\u001b[1;33m\u001b[0m\u001b[1;33m\u001b[0m\u001b[0m\n",
      "\u001b[1;32m~\\anaconda3\\lib\\site-packages\\Bio\\Align\\__init__.py\u001b[0m in \u001b[0;36m<module>\u001b[1;34m\u001b[0m\n\u001b[0;32m     27\u001b[0m     \u001b[1;32mfrom\u001b[0m \u001b[0mBio\u001b[0m \u001b[1;32mimport\u001b[0m \u001b[0mMissingPythonDependencyError\u001b[0m\u001b[1;33m\u001b[0m\u001b[1;33m\u001b[0m\u001b[0m\n\u001b[0;32m     28\u001b[0m \u001b[1;33m\u001b[0m\u001b[0m\n\u001b[1;32m---> 29\u001b[1;33m     raise MissingPythonDependencyError(\n\u001b[0m\u001b[0;32m     30\u001b[0m         \u001b[1;34m\"Please install numpy if you want to use Bio.Align. \"\u001b[0m\u001b[1;33m\u001b[0m\u001b[1;33m\u001b[0m\u001b[0m\n\u001b[0;32m     31\u001b[0m         \u001b[1;34m\"See http://www.numpy.org/\"\u001b[0m\u001b[1;33m\u001b[0m\u001b[1;33m\u001b[0m\u001b[0m\n",
      "\u001b[1;31mMissingPythonDependencyError\u001b[0m: Please install numpy if you want to use Bio.Align. See http://www.numpy.org/"
     ]
    }
   ],
   "source": [
    "import random\n",
    "import os\n",
    "from Bio import SeqIO\n",
    "from Bio.SeqUtils.ProtParam import ProteinAnalysis\n",
    "from Bio.Seq import Seq\n",
    "from Bio.SeqRecord import SeqRecord\n",
    "import timeit"
   ]
  },
  {
   "cell_type": "code",
   "execution_count": 4,
   "id": "0bcdaf66",
   "metadata": {},
   "outputs": [
    {
     "ename": "NameError",
     "evalue": "name 'SeqIO' is not defined",
     "output_type": "error",
     "traceback": [
      "\u001b[1;31m---------------------------------------------------------------------------\u001b[0m",
      "\u001b[1;31mNameError\u001b[0m                                 Traceback (most recent call last)",
      "\u001b[1;32m<ipython-input-4-1d80b8c2edaf>\u001b[0m in \u001b[0;36m<module>\u001b[1;34m\u001b[0m\n\u001b[0;32m      1\u001b[0m \u001b[1;31m# SARS-CoV-2 spike protein\u001b[0m\u001b[1;33m\u001b[0m\u001b[1;33m\u001b[0m\u001b[1;33m\u001b[0m\u001b[0m\n\u001b[1;32m----> 2\u001b[1;33m \u001b[0mspike_sars2\u001b[0m \u001b[1;33m=\u001b[0m \u001b[0mSeqIO\u001b[0m\u001b[1;33m.\u001b[0m\u001b[0mread\u001b[0m\u001b[1;33m(\u001b[0m\u001b[1;34m'P0DTC2.fasta'\u001b[0m\u001b[1;33m,\u001b[0m \u001b[1;34m'fasta'\u001b[0m\u001b[1;33m)\u001b[0m\u001b[1;33m\u001b[0m\u001b[1;33m\u001b[0m\u001b[0m\n\u001b[0m\u001b[0;32m      3\u001b[0m \u001b[0mspike_sars2_str\u001b[0m \u001b[1;33m=\u001b[0m \u001b[0mstr\u001b[0m\u001b[1;33m(\u001b[0m\u001b[0mspike_sars2\u001b[0m\u001b[1;33m.\u001b[0m\u001b[0mseq\u001b[0m\u001b[1;33m)\u001b[0m\u001b[1;33m\u001b[0m\u001b[1;33m\u001b[0m\u001b[0m\n",
      "\u001b[1;31mNameError\u001b[0m: name 'SeqIO' is not defined"
     ]
    }
   ],
   "source": [
    "# SARS-CoV-2 spike protein\n",
    "spike_sars2 = SeqIO.read('P0DTC2.fasta', 'fasta')\n",
    "spike_sars2_str = str(spike_sars2.seq)"
   ]
  },
  {
   "cell_type": "code",
   "execution_count": 34,
   "id": "b1fcc32f",
   "metadata": {},
   "outputs": [],
   "source": [
    "amino_acids = 'ACDEFGHIKLMNPQRSTVWY'"
   ]
  },
  {
   "cell_type": "markdown",
   "id": "dda7a1d1",
   "metadata": {},
   "source": [
    "### percentage distribution of aa in spike_sars2"
   ]
  },
  {
   "cell_type": "code",
   "execution_count": 35,
   "id": "955a4da1",
   "metadata": {},
   "outputs": [
    {
     "name": "stdout",
     "output_type": "stream",
     "text": [
      "Amino Acid| Counts (Percentage)\n",
      "==========================\n",
      "A         | 79 (6.21%)\n",
      "C         | 40 (3.14%)\n",
      "D         | 62 (4.87%)\n",
      "E         | 48 (3.77%)\n",
      "F         | 77 (6.05%)\n",
      "G         | 82 (6.44%)\n",
      "H         | 17 (1.34%)\n",
      "I         | 76 (5.97%)\n",
      "K         | 61 (4.79%)\n",
      "L         | 108 (8.48%)\n",
      "M         | 14 (1.10%)\n",
      "N         | 88 (6.91%)\n",
      "P         | 58 (4.56%)\n",
      "Q         | 62 (4.87%)\n",
      "R         | 42 (3.30%)\n",
      "S         | 99 (7.78%)\n",
      "T         | 97 (7.62%)\n",
      "V         | 97 (7.62%)\n",
      "W         | 12 (0.94%)\n",
      "Y         | 54 (4.24%)\n"
     ]
    }
   ],
   "source": [
    "# count of aa\n",
    "x = ProteinAnalysis(str(spike_sars2.seq))\n",
    "aa_counts = x.count_amino_acids()\n",
    "\n",
    "#length of spike protein\n",
    "total_aa = len(spike_sars2_str)\n",
    "\n",
    "# percentage of aa\n",
    "aa_percentages = {aa: (count / total_aa) * 100 for aa, count in aa_counts.items()}\n",
    "\n",
    "# table\n",
    "print(\"{:<10}| {:}\".format(\"Amino Acid\", \"Counts (Percentage)\"))\n",
    "print(\"=\" * 26)\n",
    "\n",
    "for aa, count in aa_counts.items():\n",
    "    percentage = aa_percentages[aa]\n",
    "    print(\"{:<10}| {:} ({:.2f}%)\".format(aa, count, percentage))\n",
    " "
   ]
  },
  {
   "cell_type": "markdown",
   "id": "87216592",
   "metadata": {},
   "source": [
    "### calculate variants of wildtype sequence of spike_sars2 towards all 20 homopolymers"
   ]
  },
  {
   "cell_type": "code",
   "execution_count": 97,
   "id": "803cd5ed",
   "metadata": {},
   "outputs": [],
   "source": [
    "def sequence_generator(input_sequence = spike_sars2_str, reps = 1, output_directory = \"aa_trajectories\"):\n",
    "\n",
    "    # cretae output directory\n",
    "    for rep in range(1, reps + 1):\n",
    "        rep_output_directory = os.path.join(output_directory, str(rep))\n",
    "        os.makedirs(rep_output_directory, exist_ok=True)\n",
    "\n",
    "        # Loop through each aa\n",
    "        for amino_acid in amino_acids:\n",
    "            trajectories_for_amino_acid = []\n",
    "            for _ in range(reps):\n",
    "\n",
    "                # Create a copy of the input sequence with the chosen amino acid\n",
    "                input_sequence_copy = input_sequence\n",
    "\n",
    "                # Initialize a set to store unique sequences in this trajectory\n",
    "                sequences_in_trajectory = []\n",
    "\n",
    "                # Continue until the sequence is a homopolymer of the current amino acid\n",
    "                while any(aa != amino_acid for aa in input_sequence_copy):\n",
    "                    # Randomly choose a position to mutate\n",
    "                    position_to_mutate = random.randint(0, len(input_sequence_copy) - 1)\n",
    "\n",
    "                    if input_sequence_copy[position_to_mutate] != amino_acid:\n",
    "                        # takes a substring from the beginning of input_sequence_copy up until the position to mutate and a substring after\n",
    "                        input_sequence_copy = input_sequence_copy[:position_to_mutate] + amino_acid + input_sequence_copy[position_to_mutate + 1:]\n",
    "                        sequences_in_trajectory.append(input_sequence_copy)\n",
    "\n",
    "                # Append the unique sequences to the list of trajectories for this amino acid\n",
    "                trajectories_for_amino_acid.extend(sequences_in_trajectory)\n",
    "\n",
    "            # Create SeqRecord objects and save them to a FASTA file\n",
    "            output_filename = f\"{rep_output_directory}/{amino_acid}_trajectories.fasta\"\n",
    "            seq_records = [SeqRecord(Seq(seq), id=f\"{amino_acid}_trajectory_{i+1}\", description=f\"Generated variant {i+1} for trajectory towards homopolymer {amino_acid}\") for i, seq in enumerate(trajectories_for_amino_acid)]\n",
    "\n",
    "            with open(output_filename, \"w\") as output_file:\n",
    "                SeqIO.write(seq_records, output_file, \"fasta\")\n",
    "\n",
    "        print(f\"Generated trajectories for all 20 homopolymers in '{rep_output_directory}' directory.\")"
   ]
  },
  {
   "cell_type": "markdown",
   "id": "2aa0c204",
   "metadata": {},
   "source": [
    "###  check if the correct amount of sequences was produced"
   ]
  },
  {
   "cell_type": "code",
   "execution_count": 111,
   "id": "0afbbf75",
   "metadata": {},
   "outputs": [],
   "source": [
    "def control_sequences(fasta_dir = \"aa_trajectories\", print_number_seq = True, input_seq = spike_sars2_str, reps=1):\n",
    "\n",
    "    total_sequence_count = 0\n",
    "    \n",
    "    for root, _, files in os.walk(fasta_dir):\n",
    "        for filename in files:\n",
    "            file_path = os.path.join(root, filename)\n",
    "\n",
    "            if filename.endswith(\".fasta\"):\n",
    "                # Count sequences in the current file\n",
    "                with open(file_path, \"r\") as fasta_file:\n",
    "                    total_sequence_count += len(list(SeqIO.parse(fasta_file, \"fasta\")))\n",
    "    \n",
    "\n",
    "    x = ProteinAnalysis(input_seq)\n",
    "    aa_counts = x.count_amino_acids()\n",
    "    n_sequences = 0\n",
    "    for aa, count in aa_counts.items():\n",
    "\n",
    "        temp_n_sequences = 0\n",
    "        temp_n_sequences += total_aa - count\n",
    "        n_sequences += temp_n_sequences\n",
    "\n",
    "    if print_number_seq == True:\n",
    "        print(f\"Total number of sequences: {total_sequence_count}\")\n",
    "        print(f\"Total number of possible sequences: {n_sequences*reps}\")\n",
    "\n",
    "    #check if correct amount of variants have been produced\n",
    "    if total_sequence_count == n_sequences: print(True)"
   ]
  },
  {
   "cell_type": "code",
   "execution_count": 113,
   "id": "7f2c7bf3",
   "metadata": {},
   "outputs": [
    {
     "name": "stdout",
     "output_type": "stream",
     "text": [
      "Generated trajectories for all 20 homopolymers in 'aa_trajectories\\1' directory.\n",
      "\n",
      "\n",
      "Total number of sequences: 24187\n",
      "Total number of possible sequences: 24187\n",
      "True\n"
     ]
    }
   ],
   "source": [
    "sequence_generator(spike_sars2_str, 1,\"aa_trajectories\")\n",
    "print('\\n')\n",
    "control_sequences(fasta_dir = \"aa_trajectories\", print_number_seq = True, input_seq = spike_sars2_str,reps = 1)"
   ]
  },
  {
   "cell_type": "markdown",
   "id": "4665c90e",
   "metadata": {},
   "source": [
    "### time"
   ]
  },
  {
   "cell_type": "code",
   "execution_count": 80,
   "id": "e849595a",
   "metadata": {},
   "outputs": [
    {
     "name": "stdout",
     "output_type": "stream",
     "text": [
      "Generated trajectories for all 20 homopolymers in 'aa_trajectories\\1' directory.\n",
      "Elapsed time: 4.2457524000001285 seconds\n"
     ]
    }
   ],
   "source": [
    "elapsed_time = timeit.timeit(sequence_generator, number=1)\n",
    "\n",
    "print(f\"Elapsed time: {elapsed_time} seconds\")"
   ]
  }
 ],
 "metadata": {
  "kernelspec": {
   "display_name": "Python 3",
   "language": "python",
   "name": "python3"
  },
  "language_info": {
   "codemirror_mode": {
    "name": "ipython",
    "version": 3
   },
   "file_extension": ".py",
   "mimetype": "text/x-python",
   "name": "python",
   "nbconvert_exporter": "python",
   "pygments_lexer": "ipython3",
   "version": "3.8.8"
  }
 },
 "nbformat": 4,
 "nbformat_minor": 5
}
